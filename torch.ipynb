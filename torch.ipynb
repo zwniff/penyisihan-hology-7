{
 "cells": [
  {
   "cell_type": "code",
   "execution_count": 1,
   "metadata": {},
   "outputs": [],
   "source": [
    "import os\n",
    "import numpy as np\n",
    "import torch\n",
    "import pandas as pd\n",
    "from torch.utils.data import Dataset, DataLoader  # Import Dataset and DataLoader\n",
    "from torchvision import transforms\n",
    "from PIL import Image\n",
    "import pandas as pd\n",
    "from sklearn.model_selection import train_test_split\n",
    "\n",
    "BATCH_SIZE = 32\n",
    "IMAGE_SIZE = (224,224)"
   ]
  },
  {
   "cell_type": "code",
   "execution_count": 2,
   "metadata": {},
   "outputs": [
    {
     "name": "stdout",
     "output_type": "stream",
     "text": [
      "   id  jenis  warna            file_path\n",
      "0   1      1      1  ./train/train/1.jpg\n",
      "1   2      0      2  ./train/train/2.jpg\n",
      "2   3      1      3  ./train/train/3.jpg\n",
      "3   4      1      1  ./train/train/4.jpg\n",
      "4   5      0      4  ./train/train/5.jpg\n",
      "    id            file_path\n",
      "0  778  ./test/test/778.png\n",
      "1  779  ./test/test/779.jpg\n",
      "2  780  ./test/test/780.jpg\n",
      "3  781  ./test/test/781.jpg\n",
      "4  782  ./test/test/782.jpg\n"
     ]
    }
   ],
   "source": [
    "train_dir = './train/train'\n",
    "test_dir = './test/test'\n",
    "\n",
    "def get_image_path(image_id, base_dir):\n",
    "    for ext in ['.png', '.jpg']:\n",
    "        file_path = os.path.join(base_dir, f\"{image_id}{ext}\")\n",
    "        if os.path.isfile(file_path):  # Check if the file exists\n",
    "            return file_path\n",
    "\n",
    "train_images = pd.read_csv('train.csv')\n",
    "train_images['file_path'] = train_images['id'].apply(lambda x: get_image_path(x, train_dir))\n",
    "\n",
    "test_images = pd.read_csv('sample_submission.csv').drop(['jenis', 'warna'], axis=1)\n",
    "test_images['file_path'] = test_images['id'].apply(lambda x: get_image_path(x, test_dir))\n",
    "\n",
    "print(train_images.head())\n",
    "print(test_images.head())"
   ]
  },
  {
   "cell_type": "code",
   "execution_count": 3,
   "metadata": {},
   "outputs": [],
   "source": [
    "from sklearn.model_selection import train_test_split\n",
    "\n",
    "train_df, val_df = train_test_split(train_images, test_size=0.2, random_state=42)  # 80% train, 20% val"
   ]
  },
  {
   "cell_type": "code",
   "execution_count": 4,
   "metadata": {},
   "outputs": [],
   "source": [
    "from torchvision import transforms\n",
    "\n",
    "# Define training data augmentations\n",
    "train_transform = transforms.Compose([\n",
    "    transforms.Resize((224, 224)),            # Resize to 224x224\n",
    "    transforms.RandomHorizontalFlip(),        # Randomly flip image horizontally\n",
    "    transforms.RandomRotation(15),            # Randomly rotate image by 15 degrees\n",
    "    transforms.ColorJitter(brightness=0.2, contrast=0.2), # Randomly change brightness and contrast\n",
    "    transforms.ToTensor(),                    # Convert to tensor\n",
    "    transforms.Normalize(mean=[0.485, 0.456, 0.406], \n",
    "                         std=[0.229, 0.224, 0.225])  # Normalize\n",
    "])\n",
    "\n",
    "# Validation transforms (no augmentations)\n",
    "val_transform = transforms.Compose([\n",
    "    transforms.Resize((224, 224)),  # Resize to 224x224\n",
    "    transforms.ToTensor(),          # Convert to tensor\n",
    "    transforms.Normalize(mean=[0.485, 0.456, 0.406], \n",
    "                         std=[0.229, 0.224, 0.225])  # Normalize\n",
    "])\n"
   ]
  },
  {
   "cell_type": "code",
   "execution_count": 5,
   "metadata": {},
   "outputs": [],
   "source": [
    "class MultiLabelImageDataset(Dataset):\n",
    "    def __init__(self, df, transform=None):\n",
    "        self.df = df\n",
    "        self.transform = transform\n",
    "\n",
    "    def __len__(self):\n",
    "        return len(self.df)\n",
    "\n",
    "    def __getitem__(self, idx):\n",
    "        img_path = self.df.iloc[idx]['file_path']\n",
    "        binary_label = self.df.iloc[idx]['jenis']\n",
    "        category_label = self.df.iloc[idx]['warna']\n",
    "        image = Image.open(img_path).convert('RGB')  # Open image\n",
    "        \n",
    "        if self.transform:\n",
    "            image = self.transform(image)\n",
    "\n",
    "        return image, torch.tensor(binary_label, dtype=torch.float32), torch.tensor(category_label)\n",
    "\n",
    "\n",
    "from torch.utils.data import DataLoader\n",
    "\n",
    "# Create training and validation datasets\n",
    "train_dataset = MultiLabelImageDataset(train_df, transform=train_transform)\n",
    "val_dataset = MultiLabelImageDataset(val_df, transform=val_transform)\n",
    "\n",
    "# Create DataLoader for training and validation\n",
    "train_loader = DataLoader(train_dataset, batch_size=32, shuffle=True)\n",
    "val_loader = DataLoader(val_dataset, batch_size=32, shuffle=False)"
   ]
  },
  {
   "cell_type": "code",
   "execution_count": 6,
   "metadata": {},
   "outputs": [
    {
     "name": "stderr",
     "output_type": "stream",
     "text": [
      "100%|██████████| 20/20 [08:50<00:00, 26.54s/it]\n"
     ]
    },
    {
     "name": "stdout",
     "output_type": "stream",
     "text": [
      "Epoch [1/100], Train Loss: 1.6917, Train Accuracy (Category): 73.11%, Train Accuracy (Binary): 65.54%\n"
     ]
    },
    {
     "name": "stderr",
     "output_type": "stream",
     "text": [
      "100%|██████████| 5/5 [00:28<00:00,  5.64s/it]\n"
     ]
    },
    {
     "name": "stdout",
     "output_type": "stream",
     "text": [
      "Epoch [1/100], Val Loss: 1.1262, Val Accuracy (Category): 94.87%, Val Accuracy (Binary): 83.33%\n",
      "Validation loss improved. Model saved to best_vit_ensemble_multitask_model.pth\n"
     ]
    },
    {
     "name": "stderr",
     "output_type": "stream",
     "text": [
      "100%|██████████| 20/20 [08:48<00:00, 26.42s/it]\n"
     ]
    },
    {
     "name": "stdout",
     "output_type": "stream",
     "text": [
      "Epoch [2/100], Train Loss: 0.8575, Train Accuracy (Category): 96.62%, Train Accuracy (Binary): 87.76%\n"
     ]
    },
    {
     "name": "stderr",
     "output_type": "stream",
     "text": [
      "100%|██████████| 5/5 [00:33<00:00,  6.80s/it]\n"
     ]
    },
    {
     "name": "stdout",
     "output_type": "stream",
     "text": [
      "Epoch [2/100], Val Loss: 0.6525, Val Accuracy (Category): 98.72%, Val Accuracy (Binary): 94.23%\n",
      "Validation loss improved. Model saved to best_vit_ensemble_multitask_model.pth\n"
     ]
    },
    {
     "name": "stderr",
     "output_type": "stream",
     "text": [
      "100%|██████████| 20/20 [08:44<00:00, 26.21s/it]\n"
     ]
    },
    {
     "name": "stdout",
     "output_type": "stream",
     "text": [
      "Epoch [3/100], Train Loss: 0.5276, Train Accuracy (Category): 98.55%, Train Accuracy (Binary): 94.85%\n"
     ]
    },
    {
     "name": "stderr",
     "output_type": "stream",
     "text": [
      "100%|██████████| 5/5 [00:33<00:00,  6.77s/it]\n"
     ]
    },
    {
     "name": "stdout",
     "output_type": "stream",
     "text": [
      "Epoch [3/100], Val Loss: 0.4468, Val Accuracy (Category): 98.72%, Val Accuracy (Binary): 98.08%\n",
      "Validation loss improved. Model saved to best_vit_ensemble_multitask_model.pth\n"
     ]
    },
    {
     "name": "stderr",
     "output_type": "stream",
     "text": [
      "100%|██████████| 20/20 [08:42<00:00, 26.12s/it]\n"
     ]
    },
    {
     "name": "stdout",
     "output_type": "stream",
     "text": [
      "Epoch [4/100], Train Loss: 0.3714, Train Accuracy (Category): 99.52%, Train Accuracy (Binary): 97.91%\n"
     ]
    },
    {
     "name": "stderr",
     "output_type": "stream",
     "text": [
      "100%|██████████| 5/5 [00:34<00:00,  6.81s/it]\n"
     ]
    },
    {
     "name": "stdout",
     "output_type": "stream",
     "text": [
      "Epoch [4/100], Val Loss: 0.3406, Val Accuracy (Category): 100.00%, Val Accuracy (Binary): 96.79%\n",
      "Validation loss improved. Model saved to best_vit_ensemble_multitask_model.pth\n"
     ]
    },
    {
     "name": "stderr",
     "output_type": "stream",
     "text": [
      "100%|██████████| 20/20 [08:41<00:00, 26.08s/it]\n"
     ]
    },
    {
     "name": "stdout",
     "output_type": "stream",
     "text": [
      "Epoch [5/100], Train Loss: 0.2739, Train Accuracy (Category): 99.84%, Train Accuracy (Binary): 99.52%\n"
     ]
    },
    {
     "name": "stderr",
     "output_type": "stream",
     "text": [
      "100%|██████████| 5/5 [00:33<00:00,  6.75s/it]\n"
     ]
    },
    {
     "name": "stdout",
     "output_type": "stream",
     "text": [
      "Epoch [5/100], Val Loss: 0.3118, Val Accuracy (Category): 98.08%, Val Accuracy (Binary): 99.36%\n",
      "Validation loss improved. Model saved to best_vit_ensemble_multitask_model.pth\n"
     ]
    },
    {
     "name": "stderr",
     "output_type": "stream",
     "text": [
      "100%|██████████| 20/20 [08:47<00:00, 26.35s/it]\n"
     ]
    },
    {
     "name": "stdout",
     "output_type": "stream",
     "text": [
      "Epoch [6/100], Train Loss: 0.2551, Train Accuracy (Category): 99.19%, Train Accuracy (Binary): 98.87%\n"
     ]
    },
    {
     "name": "stderr",
     "output_type": "stream",
     "text": [
      "100%|██████████| 5/5 [00:33<00:00,  6.80s/it]\n"
     ]
    },
    {
     "name": "stdout",
     "output_type": "stream",
     "text": [
      "Epoch [6/100], Val Loss: 0.2412, Val Accuracy (Category): 99.36%, Val Accuracy (Binary): 98.72%\n",
      "Validation loss improved. Model saved to best_vit_ensemble_multitask_model.pth\n"
     ]
    },
    {
     "name": "stderr",
     "output_type": "stream",
     "text": [
      "100%|██████████| 20/20 [08:44<00:00, 26.24s/it]\n"
     ]
    },
    {
     "name": "stdout",
     "output_type": "stream",
     "text": [
      "Epoch [7/100], Train Loss: 0.2097, Train Accuracy (Category): 99.52%, Train Accuracy (Binary): 99.52%\n"
     ]
    },
    {
     "name": "stderr",
     "output_type": "stream",
     "text": [
      "100%|██████████| 5/5 [00:33<00:00,  6.77s/it]\n"
     ]
    },
    {
     "name": "stdout",
     "output_type": "stream",
     "text": [
      "Epoch [7/100], Val Loss: 0.2398, Val Accuracy (Category): 98.08%, Val Accuracy (Binary): 98.08%\n",
      "Validation loss improved. Model saved to best_vit_ensemble_multitask_model.pth\n"
     ]
    },
    {
     "name": "stderr",
     "output_type": "stream",
     "text": [
      "100%|██████████| 20/20 [08:37<00:00, 25.87s/it]\n"
     ]
    },
    {
     "name": "stdout",
     "output_type": "stream",
     "text": [
      "Epoch [8/100], Train Loss: 0.1705, Train Accuracy (Category): 99.68%, Train Accuracy (Binary): 99.52%\n"
     ]
    },
    {
     "name": "stderr",
     "output_type": "stream",
     "text": [
      "100%|██████████| 5/5 [00:42<00:00,  8.50s/it]\n"
     ]
    },
    {
     "name": "stdout",
     "output_type": "stream",
     "text": [
      "Epoch [8/100], Val Loss: 0.1853, Val Accuracy (Category): 100.00%, Val Accuracy (Binary): 98.72%\n",
      "Validation loss improved. Model saved to best_vit_ensemble_multitask_model.pth\n"
     ]
    },
    {
     "name": "stderr",
     "output_type": "stream",
     "text": [
      "100%|██████████| 20/20 [08:56<00:00, 26.82s/it]\n"
     ]
    },
    {
     "name": "stdout",
     "output_type": "stream",
     "text": [
      "Epoch [9/100], Train Loss: 0.1337, Train Accuracy (Category): 100.00%, Train Accuracy (Binary): 100.00%\n"
     ]
    },
    {
     "name": "stderr",
     "output_type": "stream",
     "text": [
      "100%|██████████| 5/5 [00:38<00:00,  7.79s/it]\n"
     ]
    },
    {
     "name": "stdout",
     "output_type": "stream",
     "text": [
      "Epoch [9/100], Val Loss: 0.1557, Val Accuracy (Category): 100.00%, Val Accuracy (Binary): 98.72%\n",
      "Validation loss improved. Model saved to best_vit_ensemble_multitask_model.pth\n"
     ]
    },
    {
     "name": "stderr",
     "output_type": "stream",
     "text": [
      "100%|██████████| 20/20 [10:18<00:00, 30.90s/it]\n"
     ]
    },
    {
     "name": "stdout",
     "output_type": "stream",
     "text": [
      "Epoch [10/100], Train Loss: 0.1127, Train Accuracy (Category): 100.00%, Train Accuracy (Binary): 100.00%\n"
     ]
    },
    {
     "name": "stderr",
     "output_type": "stream",
     "text": [
      "100%|██████████| 5/5 [00:42<00:00,  8.55s/it]\n"
     ]
    },
    {
     "name": "stdout",
     "output_type": "stream",
     "text": [
      "Epoch [10/100], Val Loss: 0.1387, Val Accuracy (Category): 100.00%, Val Accuracy (Binary): 98.72%\n",
      "Validation loss improved. Model saved to best_vit_ensemble_multitask_model.pth\n"
     ]
    },
    {
     "name": "stderr",
     "output_type": "stream",
     "text": [
      "100%|██████████| 20/20 [09:58<00:00, 29.93s/it]\n"
     ]
    },
    {
     "name": "stdout",
     "output_type": "stream",
     "text": [
      "Epoch [11/100], Train Loss: 0.1100, Train Accuracy (Category): 99.84%, Train Accuracy (Binary): 99.84%\n"
     ]
    },
    {
     "name": "stderr",
     "output_type": "stream",
     "text": [
      "100%|██████████| 5/5 [00:33<00:00,  6.73s/it]\n"
     ]
    },
    {
     "name": "stdout",
     "output_type": "stream",
     "text": [
      "Epoch [11/100], Val Loss: 0.1215, Val Accuracy (Category): 100.00%, Val Accuracy (Binary): 99.36%\n",
      "Validation loss improved. Model saved to best_vit_ensemble_multitask_model.pth\n"
     ]
    },
    {
     "name": "stderr",
     "output_type": "stream",
     "text": [
      "100%|██████████| 20/20 [08:59<00:00, 26.99s/it]\n"
     ]
    },
    {
     "name": "stdout",
     "output_type": "stream",
     "text": [
      "Epoch [12/100], Train Loss: 0.0938, Train Accuracy (Category): 100.00%, Train Accuracy (Binary): 100.00%\n"
     ]
    },
    {
     "name": "stderr",
     "output_type": "stream",
     "text": [
      "100%|██████████| 5/5 [00:33<00:00,  6.76s/it]\n"
     ]
    },
    {
     "name": "stdout",
     "output_type": "stream",
     "text": [
      "Epoch [12/100], Val Loss: 0.1112, Val Accuracy (Category): 100.00%, Val Accuracy (Binary): 99.36%\n",
      "Validation loss improved. Model saved to best_vit_ensemble_multitask_model.pth\n"
     ]
    },
    {
     "name": "stderr",
     "output_type": "stream",
     "text": [
      "100%|██████████| 20/20 [08:42<00:00, 26.11s/it]\n"
     ]
    },
    {
     "name": "stdout",
     "output_type": "stream",
     "text": [
      "Epoch [13/100], Train Loss: 0.0781, Train Accuracy (Category): 100.00%, Train Accuracy (Binary): 100.00%\n"
     ]
    },
    {
     "name": "stderr",
     "output_type": "stream",
     "text": [
      "100%|██████████| 5/5 [00:39<00:00,  7.86s/it]\n"
     ]
    },
    {
     "name": "stdout",
     "output_type": "stream",
     "text": [
      "Epoch [13/100], Val Loss: 0.1040, Val Accuracy (Category): 100.00%, Val Accuracy (Binary): 99.36%\n",
      "Validation loss improved. Model saved to best_vit_ensemble_multitask_model.pth\n"
     ]
    },
    {
     "name": "stderr",
     "output_type": "stream",
     "text": [
      "100%|██████████| 20/20 [10:17<00:00, 30.88s/it]\n"
     ]
    },
    {
     "name": "stdout",
     "output_type": "stream",
     "text": [
      "Epoch [14/100], Train Loss: 0.0687, Train Accuracy (Category): 100.00%, Train Accuracy (Binary): 100.00%\n"
     ]
    },
    {
     "name": "stderr",
     "output_type": "stream",
     "text": [
      "100%|██████████| 5/5 [00:40<00:00,  8.00s/it]\n"
     ]
    },
    {
     "name": "stdout",
     "output_type": "stream",
     "text": [
      "Epoch [14/100], Val Loss: 0.0910, Val Accuracy (Category): 100.00%, Val Accuracy (Binary): 99.36%\n",
      "Validation loss improved. Model saved to best_vit_ensemble_multitask_model.pth\n"
     ]
    },
    {
     "name": "stderr",
     "output_type": "stream",
     "text": [
      "100%|██████████| 20/20 [08:45<00:00, 26.30s/it]\n"
     ]
    },
    {
     "name": "stdout",
     "output_type": "stream",
     "text": [
      "Epoch [15/100], Train Loss: 0.0619, Train Accuracy (Category): 100.00%, Train Accuracy (Binary): 100.00%\n"
     ]
    },
    {
     "name": "stderr",
     "output_type": "stream",
     "text": [
      "100%|██████████| 5/5 [00:33<00:00,  6.69s/it]\n"
     ]
    },
    {
     "name": "stdout",
     "output_type": "stream",
     "text": [
      "Epoch [15/100], Val Loss: 0.0860, Val Accuracy (Category): 100.00%, Val Accuracy (Binary): 98.72%\n",
      "Validation loss improved. Model saved to best_vit_ensemble_multitask_model.pth\n"
     ]
    },
    {
     "name": "stderr",
     "output_type": "stream",
     "text": [
      "100%|██████████| 20/20 [08:36<00:00, 25.84s/it]\n"
     ]
    },
    {
     "name": "stdout",
     "output_type": "stream",
     "text": [
      "Epoch [16/100], Train Loss: 0.0563, Train Accuracy (Category): 100.00%, Train Accuracy (Binary): 100.00%\n"
     ]
    },
    {
     "name": "stderr",
     "output_type": "stream",
     "text": [
      "100%|██████████| 5/5 [00:25<00:00,  5.03s/it]\n"
     ]
    },
    {
     "name": "stdout",
     "output_type": "stream",
     "text": [
      "Epoch [16/100], Val Loss: 0.0795, Val Accuracy (Category): 100.00%, Val Accuracy (Binary): 98.72%\n",
      "Validation loss improved. Model saved to best_vit_ensemble_multitask_model.pth\n"
     ]
    },
    {
     "name": "stderr",
     "output_type": "stream",
     "text": [
      "100%|██████████| 20/20 [08:33<00:00, 25.69s/it]\n"
     ]
    },
    {
     "name": "stdout",
     "output_type": "stream",
     "text": [
      "Epoch [17/100], Train Loss: 0.0512, Train Accuracy (Category): 100.00%, Train Accuracy (Binary): 100.00%\n"
     ]
    },
    {
     "name": "stderr",
     "output_type": "stream",
     "text": [
      "100%|██████████| 5/5 [00:33<00:00,  6.67s/it]\n"
     ]
    },
    {
     "name": "stdout",
     "output_type": "stream",
     "text": [
      "Epoch [17/100], Val Loss: 0.0726, Val Accuracy (Category): 100.00%, Val Accuracy (Binary): 98.72%\n",
      "Validation loss improved. Model saved to best_vit_ensemble_multitask_model.pth\n"
     ]
    },
    {
     "name": "stderr",
     "output_type": "stream",
     "text": [
      "100%|██████████| 20/20 [08:39<00:00, 25.98s/it]\n"
     ]
    },
    {
     "name": "stdout",
     "output_type": "stream",
     "text": [
      "Epoch [18/100], Train Loss: 0.0474, Train Accuracy (Category): 100.00%, Train Accuracy (Binary): 100.00%\n"
     ]
    },
    {
     "name": "stderr",
     "output_type": "stream",
     "text": [
      "100%|██████████| 5/5 [00:33<00:00,  6.65s/it]\n"
     ]
    },
    {
     "name": "stdout",
     "output_type": "stream",
     "text": [
      "Epoch [18/100], Val Loss: 0.0638, Val Accuracy (Category): 100.00%, Val Accuracy (Binary): 100.00%\n",
      "Validation loss improved. Model saved to best_vit_ensemble_multitask_model.pth\n"
     ]
    },
    {
     "name": "stderr",
     "output_type": "stream",
     "text": [
      "100%|██████████| 20/20 [08:36<00:00, 25.84s/it]\n"
     ]
    },
    {
     "name": "stdout",
     "output_type": "stream",
     "text": [
      "Epoch [19/100], Train Loss: 0.0437, Train Accuracy (Category): 100.00%, Train Accuracy (Binary): 100.00%\n"
     ]
    },
    {
     "name": "stderr",
     "output_type": "stream",
     "text": [
      "100%|██████████| 5/5 [00:33<00:00,  6.70s/it]\n"
     ]
    },
    {
     "name": "stdout",
     "output_type": "stream",
     "text": [
      "Epoch [19/100], Val Loss: 0.0579, Val Accuracy (Category): 100.00%, Val Accuracy (Binary): 100.00%\n",
      "Validation loss improved. Model saved to best_vit_ensemble_multitask_model.pth\n"
     ]
    },
    {
     "name": "stderr",
     "output_type": "stream",
     "text": [
      "100%|██████████| 20/20 [08:37<00:00, 25.90s/it]\n"
     ]
    },
    {
     "name": "stdout",
     "output_type": "stream",
     "text": [
      "Epoch [20/100], Train Loss: 0.0404, Train Accuracy (Category): 100.00%, Train Accuracy (Binary): 100.00%\n"
     ]
    },
    {
     "name": "stderr",
     "output_type": "stream",
     "text": [
      "100%|██████████| 5/5 [00:33<00:00,  6.73s/it]\n"
     ]
    },
    {
     "name": "stdout",
     "output_type": "stream",
     "text": [
      "Epoch [20/100], Val Loss: 0.0725, Val Accuracy (Category): 100.00%, Val Accuracy (Binary): 98.72%\n",
      "No improvement in validation loss for 1 epochs.\n"
     ]
    },
    {
     "name": "stderr",
     "output_type": "stream",
     "text": [
      "100%|██████████| 20/20 [08:39<00:00, 25.99s/it]\n"
     ]
    },
    {
     "name": "stdout",
     "output_type": "stream",
     "text": [
      "Epoch [21/100], Train Loss: 0.0372, Train Accuracy (Category): 100.00%, Train Accuracy (Binary): 100.00%\n"
     ]
    },
    {
     "name": "stderr",
     "output_type": "stream",
     "text": [
      "100%|██████████| 5/5 [00:24<00:00,  4.99s/it]\n"
     ]
    },
    {
     "name": "stdout",
     "output_type": "stream",
     "text": [
      "Epoch [21/100], Val Loss: 0.0690, Val Accuracy (Category): 100.00%, Val Accuracy (Binary): 98.72%\n",
      "No improvement in validation loss for 2 epochs.\n"
     ]
    },
    {
     "name": "stderr",
     "output_type": "stream",
     "text": [
      "100%|██████████| 20/20 [08:47<00:00, 26.35s/it]\n"
     ]
    },
    {
     "name": "stdout",
     "output_type": "stream",
     "text": [
      "Epoch [22/100], Train Loss: 0.0392, Train Accuracy (Category): 100.00%, Train Accuracy (Binary): 99.84%\n"
     ]
    },
    {
     "name": "stderr",
     "output_type": "stream",
     "text": [
      "100%|██████████| 5/5 [00:33<00:00,  6.70s/it]\n"
     ]
    },
    {
     "name": "stdout",
     "output_type": "stream",
     "text": [
      "Epoch [22/100], Val Loss: 0.0685, Val Accuracy (Category): 100.00%, Val Accuracy (Binary): 97.44%\n",
      "No improvement in validation loss for 3 epochs.\n",
      "Learning rate reduced to 0.000050\n"
     ]
    },
    {
     "name": "stderr",
     "output_type": "stream",
     "text": [
      "100%|██████████| 20/20 [08:37<00:00, 25.86s/it]\n"
     ]
    },
    {
     "name": "stdout",
     "output_type": "stream",
     "text": [
      "Epoch [23/100], Train Loss: 0.0373, Train Accuracy (Category): 100.00%, Train Accuracy (Binary): 99.84%\n"
     ]
    },
    {
     "name": "stderr",
     "output_type": "stream",
     "text": [
      "100%|██████████| 5/5 [00:33<00:00,  6.68s/it]\n"
     ]
    },
    {
     "name": "stdout",
     "output_type": "stream",
     "text": [
      "Epoch [23/100], Val Loss: 0.0668, Val Accuracy (Category): 100.00%, Val Accuracy (Binary): 98.08%\n",
      "No improvement in validation loss for 4 epochs.\n"
     ]
    },
    {
     "name": "stderr",
     "output_type": "stream",
     "text": [
      "100%|██████████| 20/20 [08:38<00:00, 25.94s/it]\n"
     ]
    },
    {
     "name": "stdout",
     "output_type": "stream",
     "text": [
      "Epoch [24/100], Train Loss: 0.0356, Train Accuracy (Category): 100.00%, Train Accuracy (Binary): 99.84%\n"
     ]
    },
    {
     "name": "stderr",
     "output_type": "stream",
     "text": [
      "100%|██████████| 5/5 [00:33<00:00,  6.71s/it]\n",
      "/tmp/ipykernel_1624/3106630066.py:189: FutureWarning: You are using `torch.load` with `weights_only=False` (the current default value), which uses the default pickle module implicitly. It is possible to construct malicious pickle data which will execute arbitrary code during unpickling (See https://github.com/pytorch/pytorch/blob/main/SECURITY.md#untrusted-models for more details). In a future release, the default value for `weights_only` will be flipped to `True`. This limits the functions that could be executed during unpickling. Arbitrary objects will no longer be allowed to be loaded via this mode unless they are explicitly allowlisted by the user via `torch.serialization.add_safe_globals`. We recommend you start setting `weights_only=True` for any use case where you don't have full control of the loaded file. Please open an issue on GitHub for any issues related to this experimental feature.\n",
      "  model.load_state_dict(torch.load(best_model_path))\n"
     ]
    },
    {
     "name": "stdout",
     "output_type": "stream",
     "text": [
      "Epoch [24/100], Val Loss: 0.0710, Val Accuracy (Category): 100.00%, Val Accuracy (Binary): 98.72%\n",
      "No improvement in validation loss for 5 epochs.\n",
      "Early stopping triggered.\n",
      "Best model loaded from best_vit_ensemble_multitask_model.pth\n"
     ]
    }
   ],
   "source": [
    "import torch\n",
    "import torch.nn as nn\n",
    "import torch.optim as optim\n",
    "from transformers import ViTModel\n",
    "from torch.utils.data import DataLoader\n",
    "from tqdm import tqdm\n",
    "\n",
    "\n",
    "# Ensemble Multi-task Vision Transformer Model\n",
    "class ViTEnsembleMultiTask(nn.Module):\n",
    "    def __init__(self, num_category_labels, num_binary_labels=1, num_models=3):\n",
    "        super(ViTEnsembleMultiTask, self).__init__()\n",
    "        \n",
    "        # Create a list of multiple ViT models for the ensemble\n",
    "        self.num_models = num_models\n",
    "        self.vit_models = nn.ModuleList([ViTModel.from_pretrained('google/vit-base-patch16-224-in21k') for _ in range(num_models)])\n",
    "        self.hidden_size = self.vit_models[0].config.hidden_size\n",
    "        \n",
    "        # Separate classifiers for binary classification and multi-class classification\n",
    "        self.binary_classifiers = nn.ModuleList([nn.Linear(self.hidden_size, num_binary_labels) for _ in range(num_models)])\n",
    "        self.category_classifiers = nn.ModuleList([nn.Linear(self.hidden_size, num_category_labels) for _ in range(num_models)])\n",
    "\n",
    "    def forward(self, x):\n",
    "        binary_logits_ensemble = []\n",
    "        category_logits_ensemble = []\n",
    "        \n",
    "        # Forward pass through each model in the ensemble\n",
    "        for i in range(self.num_models):\n",
    "            output = self.vit_models[i](x)\n",
    "            pooled_output = output.last_hidden_state[:, 0]  # Get [CLS] token representation\n",
    "\n",
    "            # Get logits from corresponding classifiers\n",
    "            binary_logits = self.binary_classifiers[i](pooled_output)\n",
    "            category_logits = self.category_classifiers[i](pooled_output)\n",
    "\n",
    "            # Store logits for ensembling\n",
    "            binary_logits_ensemble.append(binary_logits)\n",
    "            category_logits_ensemble.append(category_logits)\n",
    "        \n",
    "        # Average logits from all models in the ensemble\n",
    "        binary_logits_final = torch.mean(torch.stack(binary_logits_ensemble, dim=0), dim=0)\n",
    "        category_logits_final = torch.mean(torch.stack(category_logits_ensemble, dim=0), dim=0)\n",
    "        \n",
    "        return binary_logits_final, category_logits_final\n",
    "\n",
    "\n",
    "# Set hyperparameters\n",
    "initial_lr = 1e-4\n",
    "num_category_labels = 5\n",
    "num_binary_labels = 1\n",
    "num_models = 3  # Number of ViT models in the ensemble\n",
    "device = torch.device(\"cuda\" if torch.cuda.is_available() else \"cpu\")\n",
    "\n",
    "# Initialize the model and other components\n",
    "model = ViTEnsembleMultiTask(num_category_labels=num_category_labels, num_binary_labels=num_binary_labels, num_models=num_models)\n",
    "model.to(device)\n",
    "\n",
    "# Define loss functions and optimizer\n",
    "binary_criterion = nn.BCEWithLogitsLoss()\n",
    "category_criterion = nn.CrossEntropyLoss()\n",
    "optimizer = optim.AdamW(model.parameters(), lr=initial_lr)\n",
    "\n",
    "# Early stopping and LR adjustment parameters\n",
    "best_val_loss = float('inf')\n",
    "early_stopping_counter = 0\n",
    "patience = 5\n",
    "lr_reduction_counter = 0\n",
    "lr_patience = 3  # Number of epochs without improvement before reducing learning rate\n",
    "lr_reduction_factor = 0.5  # Factor by which to reduce the learning rate\n",
    "best_model_path = 'best_vit_ensemble_multitask_model.pth'\n",
    "\n",
    "# Training and validation loop\n",
    "epochs = 100\n",
    "\n",
    "for epoch in range(epochs):\n",
    "    # Training phase\n",
    "    model.train()\n",
    "    running_loss = 0.0\n",
    "    train_correct_category = 0\n",
    "    train_correct_binary = 0\n",
    "    train_total_category = 0\n",
    "    train_total_binary = 0\n",
    "\n",
    "    for images, binary_labels, category_labels in tqdm(train_loader):\n",
    "        images = images.to(device)\n",
    "        binary_labels = binary_labels.to(device).float()  # For BCEWithLogitsLoss, use float targets\n",
    "        category_labels = category_labels.to(device)\n",
    "\n",
    "        # Forward pass\n",
    "        binary_logits, category_logits = model(images)\n",
    "\n",
    "        # Compute losses\n",
    "        binary_loss = binary_criterion(binary_logits.squeeze(), binary_labels)\n",
    "        category_loss = category_criterion(category_logits, category_labels)\n",
    "\n",
    "        # Total loss\n",
    "        loss = binary_loss + category_loss\n",
    "\n",
    "        # Backward and optimization step\n",
    "        optimizer.zero_grad()\n",
    "        loss.backward()\n",
    "        optimizer.step()\n",
    "\n",
    "        # Update loss\n",
    "        running_loss += loss.item()\n",
    "\n",
    "        # Compute training accuracy\n",
    "        _, category_predicted = category_logits.max(1)\n",
    "        binary_predicted = (binary_logits > 0).int().squeeze()\n",
    "\n",
    "        train_total_category += category_labels.size(0)\n",
    "        train_correct_category += category_predicted.eq(category_labels).sum().item()\n",
    "\n",
    "        train_total_binary += binary_labels.size(0)\n",
    "        train_correct_binary += binary_predicted.eq(binary_labels.int()).sum().item()\n",
    "\n",
    "    train_loss = running_loss / len(train_loader)\n",
    "    train_acc_category = 100.0 * train_correct_category / train_total_category\n",
    "    train_acc_binary = 100.0 * train_correct_binary / train_total_binary\n",
    "\n",
    "    print(f'Epoch [{epoch + 1}/{epochs}], Train Loss: {train_loss:.4f}, '\n",
    "          f'Train Accuracy (Category): {train_acc_category:.2f}%, '\n",
    "          f'Train Accuracy (Binary): {train_acc_binary:.2f}%')\n",
    "\n",
    "    # Validation phase\n",
    "    model.eval()\n",
    "    val_loss = 0.0\n",
    "    val_correct_category = 0\n",
    "    val_correct_binary = 0\n",
    "    val_total_category = 0\n",
    "    val_total_binary = 0\n",
    "\n",
    "    with torch.no_grad():\n",
    "        for images, binary_labels, category_labels in tqdm(val_loader):\n",
    "            images = images.to(device)\n",
    "            binary_labels = binary_labels.to(device).float()\n",
    "            category_labels = category_labels.to(device)\n",
    "\n",
    "            binary_logits, category_logits = model(images)\n",
    "\n",
    "            binary_loss = binary_criterion(binary_logits.squeeze(), binary_labels)\n",
    "            category_loss = category_criterion(category_logits, category_labels)\n",
    "\n",
    "            loss = binary_loss + category_loss\n",
    "            val_loss += loss.item()\n",
    "\n",
    "            _, category_predicted = category_logits.max(1)\n",
    "            binary_predicted = (binary_logits > 0).int().squeeze()\n",
    "\n",
    "            val_total_category += category_labels.size(0)\n",
    "            val_correct_category += category_predicted.eq(category_labels).sum().item()\n",
    "\n",
    "            val_total_binary += binary_labels.size(0)\n",
    "            val_correct_binary += binary_predicted.eq(binary_labels.int()).sum().item()\n",
    "\n",
    "    val_loss /= len(val_loader)\n",
    "    val_acc_category = 100.0 * val_correct_category / val_total_category\n",
    "    val_acc_binary = 100.0 * val_correct_binary / val_total_binary\n",
    "\n",
    "    print(f'Epoch [{epoch + 1}/{epochs}], Val Loss: {val_loss:.4f}, '\n",
    "          f'Val Accuracy (Category): {val_acc_category:.2f}%, '\n",
    "          f'Val Accuracy (Binary): {val_acc_binary:.2f}%')\n",
    "\n",
    "    # Early stopping and learning rate adjustment check\n",
    "    if val_loss < best_val_loss:\n",
    "        best_val_loss = val_loss\n",
    "        early_stopping_counter = 0\n",
    "        lr_reduction_counter = 0  # Reset counter since validation loss improved\n",
    "        torch.save(model.state_dict(), best_model_path)\n",
    "        print(f\"Validation loss improved. Model saved to {best_model_path}\")\n",
    "    else:\n",
    "        early_stopping_counter += 1\n",
    "        lr_reduction_counter += 1\n",
    "        print(f\"No improvement in validation loss for {early_stopping_counter} epochs.\")\n",
    "\n",
    "        # If validation loss hasn't improved for 'patience' epochs, stop training\n",
    "        if early_stopping_counter >= patience:\n",
    "            print(\"Early stopping triggered.\")\n",
    "            break\n",
    "        \n",
    "        # If validation loss hasn't improved for 'lr_patience' epochs, reduce learning rate\n",
    "        if lr_reduction_counter >= lr_patience:\n",
    "            for param_group in optimizer.param_groups:\n",
    "                param_group['lr'] *= lr_reduction_factor  # Reduce learning rate\n",
    "            lr_reduction_counter = 0  # Reset the counter after reducing learning rate\n",
    "            print(f\"Learning rate reduced to {optimizer.param_groups[0]['lr']:.6f}\")\n",
    "\n",
    "# Load the best model after training\n",
    "model.load_state_dict(torch.load(best_model_path))\n",
    "print(f\"Best model loaded from {best_model_path}\")"
   ]
  },
  {
   "cell_type": "code",
   "execution_count": 11,
   "metadata": {},
   "outputs": [],
   "source": [
    "import pandas as pd\n",
    "import torch\n",
    "from torchvision import transforms\n",
    "from PIL import Image\n",
    "from torch.utils.data import Dataset, DataLoader\n",
    "\n",
    "# Step 2: Define image transformations\n",
    "transform = transforms.Compose([\n",
    "    transforms.Resize((224, 224)),  # Resize to the input size of ViT\n",
    "    transforms.ToTensor(),           # Convert image to PyTorch tensor\n",
    "    transforms.Normalize(mean=[0.5, 0.5, 0.5], std=[0.5, 0.5, 0.5])  # Normalize\n",
    "])\n",
    "\n",
    "# Step 2: Create a custom Dataset class for predictions\n",
    "class CustomImageDataset(Dataset):\n",
    "    def __init__(self, dataframe, transform=None):\n",
    "        self.dataframe = dataframe\n",
    "        self.transform = transform\n",
    "\n",
    "    def __len__(self):\n",
    "        return len(self.dataframe)\n",
    "\n",
    "    def __getitem__(self, idx):\n",
    "        img_path = self.dataframe.iloc[idx]['file_path']\n",
    "        image = Image.open(img_path).convert('RGB')\n",
    "        \n",
    "        if self.transform:\n",
    "            image = self.transform(image)\n",
    "        \n",
    "        return image\n",
    "\n",
    "# Step 3: Create DataLoader for predictions with batch size of 32\n",
    "test_dataset = CustomImageDataset(test_images, transform=transform)\n",
    "test_loader = DataLoader(test_dataset, batch_size=32, shuffle=False)  # Set batch size to 32\n",
    "\n",
    "# Step 4: Load the trained model\n",
    "model.eval()  # Set the model to evaluation mode\n",
    "model.to(device)  # Ensure the model is on the correct device\n",
    "\n",
    "# Step 5: Prepare lists to store predictions\n",
    "binary_predictions = []\n",
    "category_predictions = []\n",
    "\n",
    "with torch.no_grad():\n",
    "    for images in test_loader:\n",
    "        images = images.to(device)\n",
    "\n",
    "        # Forward pass through the model\n",
    "        binary_logits, category_logits = model(images)\n",
    "\n",
    "        # Apply sigmoid to binary logits and softmax to category logits\n",
    "        binary_probs = torch.sigmoid(binary_logits).cpu().numpy()\n",
    "        category_probs = torch.softmax(category_logits, dim=1).cpu().numpy()\n",
    "\n",
    "        # Collect predictions for the batch\n",
    "        binary_predictions.extend((binary_probs > 0.5).astype(int).flatten())  # Convert to binary 0 or 1\n",
    "        category_predictions.extend(category_probs.argmax(axis=1))  # Get the predicted class index\n",
    "\n",
    "# Step 6: Create a DataFrame for predictions\n",
    "submission_df = pd.DataFrame({\n",
    "    'id': test_images['id'],  # Ensure this matches your DataFrame structure\n",
    "    'jenis': binary_predictions,\n",
    "    'warna': category_predictions\n",
    "})\n",
    "\n",
    "# Step 7: Save the DataFrame to CSV for Kaggle submission\n",
    "submission_df.to_csv('submission.csv', index=False)"
   ]
  },
  {
   "cell_type": "code",
   "execution_count": 12,
   "metadata": {},
   "outputs": [],
   "source": [
    "manual = pd.read_csv('testHology.csv')\n",
    "\n",
    "jenis_manual = manual['jenis']\n",
    "warna_manual = manual['warna']"
   ]
  },
  {
   "cell_type": "code",
   "execution_count": 9,
   "metadata": {},
   "outputs": [
    {
     "data": {
      "image/png": "[encoded data removed]",
      "text/plain": [
       "<Figure size 640x480 with 2 Axes>"
      ]
     },
     "metadata": {},
     "output_type": "display_data"
    }
   ],
   "source": [
    "from sklearn.metrics import confusion_matrix\n",
    "import seaborn as sns\n",
    "import matplotlib.pyplot as plt\n",
    "\n",
    "# Assuming y_true are your actual labels and y_pred are your predicted labels\n",
    "cm = confusion_matrix(binary_predictions, jenis_manual)\n",
    "sns.heatmap(cm, annot=True, fmt='d', cmap='Blues')\n",
    "plt.ylabel('True Label')\n",
    "plt.xlabel('Predicted Label')\n",
    "plt.title('Confusion Matrix')\n",
    "plt.show()"
   ]
  },
  {
   "cell_type": "code",
   "execution_count": 10,
   "metadata": {},
   "outputs": [
    {
     "data": {
      "image/png": "[encoded data removed]",
      "text/plain": [
       "<Figure size 640x480 with 2 Axes>"
      ]
     },
     "metadata": {},
     "output_type": "display_data"
    }
   ],
   "source": [
    "cm = confusion_matrix(category_predictions, warna_manual)\n",
    "sns.heatmap(cm, annot=True, fmt='d', cmap='Blues')\n",
    "plt.ylabel('True Label')\n",
    "plt.xlabel('Predicted Label')\n",
    "plt.title('Confusion Matrix')\n",
    "plt.show()"
   ]
  }
 ],
 "metadata": {
  "kernelspec": {
   "display_name": "torch",
   "language": "python",
   "name": "python3"
  },
  "language_info": {
   "codemirror_mode": {
    "name": "ipython",
    "version": 3
   },
   "file_extension": ".py",
   "mimetype": "text/x-python",
   "name": "python",
   "nbconvert_exporter": "python",
   "pygments_lexer": "ipython3",
   "version": "3.12.2"
  }
 },
 "nbformat": 4,
 "nbformat_minor": 2
}
